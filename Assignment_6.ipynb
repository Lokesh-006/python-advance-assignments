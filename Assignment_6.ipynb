{
 "cells": [
  {
   "cell_type": "markdown",
   "id": "cdf4bb5c",
   "metadata": {},
   "source": [
    "  #                          @Assignment_6"
   ]
  },
  {
   "cell_type": "code",
   "execution_count": null,
   "id": "5807fd2c",
   "metadata": {},
   "outputs": [],
   "source": []
  },
  {
   "cell_type": "markdown",
   "id": "50325811",
   "metadata": {},
   "source": [
    "### 1. Describe three applications for exception processing."
   ]
  },
  {
   "cell_type": "markdown",
   "id": "9bac2ee4",
   "metadata": {},
   "source": [
    "Ans:\n",
    "##### Applications for exception Processing is:\n",
    "            Check the Script inputs if anything wrong in programe script it helps to run without any termination.\n",
    "            \n",
    "            \n",
    "            \n",
    "                        * Checking Appropriate use of input in an application\n",
    "                        * Checking for Arithmetic exceptions in mathematical executions\n",
    "                        * Checking File I/O exceptions during File handling\n"
   ]
  },
  {
   "cell_type": "markdown",
   "id": "bf0e52ed",
   "metadata": {},
   "source": [
    "### 2. What happens if you don't do something extra to treat an exception?\n",
    "Ans: \n",
    "\n",
    "\n",
    "                        If Exceptions are not handled flow of program will be broken during the run time which might lead to a abnormal termination of the program. Inshort inability of program to handle exceptions will result in crashing of program."
   ]
  },
  {
   "cell_type": "markdown",
   "id": "8d47d563",
   "metadata": {},
   "source": [
    "### 3. What are your options for recovering from an exception in your script?\n",
    "\n",
    "\n",
    "Ans: \n",
    "\n",
    "\n",
    "\n",
    "        Python provides try and except (try,else,finally,raise) statements for recovering from an exception in your script ."
   ]
  },
  {
   "cell_type": "markdown",
   "id": "51ee1bb7",
   "metadata": {},
   "source": [
    "### 4. Describe two methods for triggering exceptions in your script ?\n",
    "\n",
    "Ans: **raise** and **assert** are two methods that can be used to trigger manual exceptions in your script.\n",
    "\n",
    "* **raise** method triggers an exception if condition provided to it turns out to be True. \n",
    "* **assert** will let the program to continue execution if condition provided to it turns out to be True else exception will be raised"
   ]
  },
  {
   "cell_type": "code",
   "execution_count": 14,
   "id": "61bdb18c",
   "metadata": {},
   "outputs": [
    {
     "name": "stdout",
     "output_type": "stream",
     "text": [
      "X Value Should not exceed 5 The Provided Value of X is 500\n"
     ]
    }
   ],
   "source": [
    "# Example of raise method\n",
    "try:\n",
    "    \n",
    "    x = 500\n",
    "    raise Exception(f'X Value Should not exceed 5 The Provided Value of X is {x}')\n",
    "except Exception as e:\n",
    "    print(e)"
   ]
  },
  {
   "cell_type": "code",
   "execution_count": 23,
   "id": "87ceca55",
   "metadata": {},
   "outputs": [
    {
     "name": "stdout",
     "output_type": "stream",
     "text": [
      "0 is never equal to 6\n"
     ]
    }
   ],
   "source": [
    "# Example for assert Method\n",
    "try:\n",
    "    assert( 0 == 6) ,'0 is never equal to 6'\n",
    "except Exception as e:\n",
    "    print(e)"
   ]
  },
  {
   "cell_type": "markdown",
   "id": "c1db729e",
   "metadata": {},
   "source": [
    "### 5. Identify two methods for specifying actions to be executed at termination time, regardless of whether or not an exception exists."
   ]
  },
  {
   "cell_type": "markdown",
   "id": "0a08a3d7",
   "metadata": {},
   "source": [
    "Ans:\n",
    "\n",
    "   **else,finally** blocks for specifying actions to be executed at termination time, regardless of whether an exceptions exists or not"
   ]
  },
  {
   "cell_type": "code",
   "execution_count": null,
   "id": "92088bb7",
   "metadata": {},
   "outputs": [],
   "source": []
  },
  {
   "cell_type": "markdown",
   "id": "7059143b",
   "metadata": {},
   "source": [
    "                                    # @@@ Thank You @@@"
   ]
  },
  {
   "cell_type": "code",
   "execution_count": null,
   "id": "7427bdb7",
   "metadata": {},
   "outputs": [],
   "source": []
  }
 ],
 "metadata": {
  "kernelspec": {
   "display_name": "Python 3 (ipykernel)",
   "language": "python",
   "name": "python3"
  },
  "language_info": {
   "codemirror_mode": {
    "name": "ipython",
    "version": 3
   },
   "file_extension": ".py",
   "mimetype": "text/x-python",
   "name": "python",
   "nbconvert_exporter": "python",
   "pygments_lexer": "ipython3",
   "version": "3.9.13"
  }
 },
 "nbformat": 4,
 "nbformat_minor": 5
}
