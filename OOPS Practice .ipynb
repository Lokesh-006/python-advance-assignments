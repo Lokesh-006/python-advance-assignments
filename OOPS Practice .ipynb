{
 "cells": [
  {
   "cell_type": "markdown",
   "id": "4581537c-6a42-4984-9f02-0d402d5fde52",
   "metadata": {},
   "source": [
    "## OOP (object oriented programming oops ) Pacticing with wth all dtail concepts:\n"
   ]
  },
  {
   "cell_type": "markdown",
   "id": "279031db-38bd-44f5-acdd-b7fe375e9c3f",
   "metadata": {},
   "source": [
    "## Oops"
   ]
  },
  {
   "cell_type": "markdown",
   "id": "0a216167-0927-4c3a-bc4a-fa01c5f1013b",
   "metadata": {},
   "source": [
    "\n",
    "\n",
    "## PYTHON ASSIGNMENTS 1\n",
    "# 1.What is the purpose of python oops ?\n"
   ]
  },
  {
   "cell_type": "markdown",
   "id": "7aedea5d-7ebd-4237-a2c4-c06ab09e6d5d",
   "metadata": {},
   "source": [
    "# ans:\n",
    "# Purpose of Python Oops\n",
    "        # Oops is a method of the computer programming method,it organizes software develop around object and data rater than logic and funcions.\n",
    "        # Benifits of oops is includes reusabiliy ,scalability, effciency, eassy to manipulate the data \n",
    "        # 1.oops ca imlements programming  or coading things or methods\n",
    "        # 2.Used to methodes developments of software programming applicatins\n",
    "        # 3. also it implements sofware packages and labreries.\n",
    "\n",
    "\n",
    "\n",
    "\n",
    "\n"
   ]
  },
  {
   "cell_type": "markdown",
   "id": "d84e4075-610b-4142-8f7d-f5ecc709279d",
   "metadata": {},
   "source": [
    "# 2.Where dose an inheritance search looks for an attribute ?\n"
   ]
  },
  {
   "cell_type": "raw",
   "id": "ac95a34a-ebfc-45f2-8565-95f9dcc78e52",
   "metadata": {},
   "source": [
    "## Classes can reuse code from other classes. Relationships and subclasses between objects can be assigned, enabling developers to reuse common logic while still maintaining a unique hierarchy. This property of OOP forces a more thorough data analysis, reduces development time and ensures a higher level of accuracy."
   ]
  },
  {
   "cell_type": "code",
   "execution_count": 46,
   "id": "94eade89-a194-4216-9ea7-c9cbd2c7ed52",
   "metadata": {},
   "outputs": [],
   "source": [
    "# it allows us to define a class that nherits all the methods and properties from another class.parent class being inherits form ,also called base class.\n",
    "# child class is the class that inhets from anothet class."
   ]
  },
  {
   "cell_type": "code",
   "execution_count": 47,
   "id": "0903df09-e8c8-49be-885a-ec24cddb33a6",
   "metadata": {},
   "outputs": [],
   "source": [
    "class vehicle():#(it is an Paren class)\n",
    "    def Four_wheeler(self):\n",
    "        print(\"Engine Runs with the Fuel\")\n",
    "class Bike(vehicle):# Child class it able to access parents class also.\n",
    "    def Two_Wheeler(self):\n",
    "        print(\"Petrol is uses as Fuel of Engine \")\n",
    "class cycle(Bike):\n",
    "    def Charged(self):\n",
    "        print(\"this an Electric chaged \")"
   ]
  },
  {
   "cell_type": "code",
   "execution_count": 48,
   "id": "6b408afd-e292-4397-8540-b20e0da2c47d",
   "metadata": {},
   "outputs": [],
   "source": [
    "b = Bike()\n",
    "c =cycle()"
   ]
  },
  {
   "cell_type": "code",
   "execution_count": 49,
   "id": "6921d45b-af33-4956-88f9-3d19de8fe610",
   "metadata": {},
   "outputs": [
    {
     "name": "stdout",
     "output_type": "stream",
     "text": [
      "Engine Runs with the Fuel\n"
     ]
    }
   ],
   "source": [
    "b.Four_wheeler() "
   ]
  },
  {
   "cell_type": "code",
   "execution_count": 50,
   "id": "3831e334-33bc-4107-8d5d-91a3df5b90e1",
   "metadata": {},
   "outputs": [
    {
     "name": "stdout",
     "output_type": "stream",
     "text": [
      "this an Electric chaged \n"
     ]
    }
   ],
   "source": [
    "c.Charged()"
   ]
  },
  {
   "cell_type": "code",
   "execution_count": 51,
   "id": "f5178027-096a-4604-a6c1-907ba5225b53",
   "metadata": {},
   "outputs": [
    {
     "name": "stdout",
     "output_type": "stream",
     "text": [
      "Engine Runs with the Fuel\n"
     ]
    }
   ],
   "source": [
    "c.Four_wheeler()"
   ]
  },
  {
   "cell_type": "code",
   "execution_count": 52,
   "id": "3bf0820d-7832-4f69-8c22-eab41276770f",
   "metadata": {},
   "outputs": [
    {
     "name": "stdout",
     "output_type": "stream",
     "text": [
      "Petrol is uses as Fuel of Engine \n"
     ]
    }
   ],
   "source": [
    "c.Two_Wheeler()"
   ]
  },
  {
   "cell_type": "code",
   "execution_count": 53,
   "id": "4fc5d3da-6244-43ef-8670-b6bb95eac38d",
   "metadata": {},
   "outputs": [],
   "source": [
    "# ineritance is calle in child class from the base or paret class attribut"
   ]
  },
  {
   "cell_type": "markdown",
   "id": "de928138-5909-4301-8936-a9a2cfaddbff",
   "metadata": {},
   "source": [
    "# 3.How do you Distigush between a class object and instance object ?"
   ]
  },
  {
   "cell_type": "markdown",
   "id": "cb3f304a-db5c-42c2-9023-32dad6535d74",
   "metadata": {},
   "source": [
    "## class Object is :\n",
    "   An object is simply a collection of data (variables) and methods (functions) that act on those data. Similarly, a class is a blueprint for that object."
   ]
  },
  {
   "cell_type": "markdown",
   "id": "6ae41534-9e5e-4df2-858c-4ede6979239f",
   "metadata": {},
   "source": [
    "# Insance Object is :\n",
    "    # it isan referance for the class object "
   ]
  },
  {
   "cell_type": "markdown",
   "id": "12ed1dad-6dfb-49a9-a365-176bfcee5651",
   "metadata": {},
   "source": [
    "# 4.What makes the first argument in a class method function special ?"
   ]
  },
  {
   "cell_type": "raw",
   "id": "04f60f92-2baa-451a-af6b-62d48cf59430",
   "metadata": {},
   "source": [
    "# the First argument of an class method function is generally used for calling the attributs of fuctin auomatically .it is refers as \" Self \",that is no rule to maintain as \" self \" any thing we can use here"
   ]
  },
  {
   "cell_type": "code",
   "execution_count": 54,
   "id": "7b66cacc-e584-45a9-bd6a-ae6af79f7f7d",
   "metadata": {},
   "outputs": [],
   "source": [
    "class think :\n",
    "    def __init__(self,brain,logic):\n",
    "        self.brain = brain\n",
    "        self.logic = logic\n",
    "        pass\n",
    "t=think(\"suffering\",\"im not able to understanding python tasks \")\n"
   ]
  },
  {
   "cell_type": "code",
   "execution_count": 55,
   "id": "a4636da0-dbd4-4808-912f-3fb0fe809049",
   "metadata": {},
   "outputs": [
    {
     "data": {
      "text/plain": [
       "'suffering'"
      ]
     },
     "execution_count": 55,
     "metadata": {},
     "output_type": "execute_result"
    }
   ],
   "source": [
    "t.brain"
   ]
  },
  {
   "cell_type": "code",
   "execution_count": 56,
   "id": "8d17865a-b2bd-4fad-8ca6-ec473e235aa9",
   "metadata": {},
   "outputs": [
    {
     "data": {
      "text/plain": [
       "'im not able to understanding python tasks '"
      ]
     },
     "execution_count": 56,
     "metadata": {},
     "output_type": "execute_result"
    }
   ],
   "source": [
    "t.logic"
   ]
  },
  {
   "cell_type": "markdown",
   "id": "bc446e72-3a13-4294-99d0-fa7e975bf94f",
   "metadata": {},
   "source": [
    "# 5. what is the purpose of __init__ method ?"
   ]
  },
  {
   "cell_type": "raw",
   "id": "c463b03b-9f92-4f8c-9fb8-f1b686bb46a8",
   "metadata": {},
   "source": [
    "# __init__() type of function is called as special function.the purpose of this method is to initialize all the ariables."
   ]
  },
  {
   "cell_type": "markdown",
   "id": "ff882ed4-cca2-4425-81fe-b872754bd27c",
   "metadata": {},
   "source": [
    "# 6 What s the Proces for Creating class intance ?"
   ]
  },
  {
   "cell_type": "code",
   "execution_count": 57,
   "id": "c211bafa-609c-4001-a7c1-46bfd5c5e707",
   "metadata": {},
   "outputs": [],
   "source": [
    "#vthis is the process of creating a class intance\n",
    "class think :\n",
    "    def __init__(self,brain,logic):\n",
    "        self.brain = brain\n",
    "        self.logic = logic\n",
    "        pass\n",
    "t=think(\"suffering\",\"im not able to understanding python tasks \")"
   ]
  },
  {
   "cell_type": "markdown",
   "id": "0d91da0d-4409-4256-a15a-4f9f250b6355",
   "metadata": {},
   "source": [
    "# 7. What is the Process of creating a class ?\n"
   ]
  },
  {
   "cell_type": "code",
   "execution_count": 58,
   "id": "38050581-0c16-4aed-a523-35323e485db8",
   "metadata": {},
   "outputs": [],
   "source": [
    "class Creating: # (lets write a keyword \"class\" and name what is your class then \":\" than give pass  )\n",
    "    pass"
   ]
  },
  {
   "cell_type": "markdown",
   "id": "45f99866-c8b2-43e0-9048-d5e58e137ca0",
   "metadata": {},
   "source": [
    "# 8 .How would You define a super class of a class ?"
   ]
  },
  {
   "cell_type": "markdown",
   "id": "364e3e80-fba1-40fe-9ed6-482c33110dca",
   "metadata": {},
   "source": [
    "A class which if from the class is called sub class or child class,and the class which if from the sub clas is called super class."
   ]
  },
  {
   "cell_type": "code",
   "execution_count": 59,
   "id": "e673f932-c6d8-47ee-9d6a-e8cafb681f3c",
   "metadata": {},
   "outputs": [],
   "source": [
    "# superclass\n",
    "class Person():\n",
    "    def __init__(self, per_name, per_age):\n",
    "        self.name = per_name\n",
    "        self.age = per_age\n",
    "        \n",
    "    def display1(self):\n",
    "        print(\"name:\", self.name)\n",
    "        print(\"age:\", self.age)\n",
    "\n",
    "# subclass\n",
    "class Employee(Person):\n",
    "    def __init__(self, emp_name, emp_age, emp_salary):\n",
    "        self.salary = emp_salary\n",
    "        super().__init__(emp_name, emp_age)\n",
    "    def display2(self):\n",
    "        print(\"salary:\", self.salary)\n",
    "        super().display1()\n",
    "\n",
    "emp = Employee(\"lokesh\", 25, 8000) "
   ]
  },
  {
   "cell_type": "code",
   "execution_count": 45,
   "id": "9d075c88-d1ed-424f-ac29-2653903b2d74",
   "metadata": {},
   "outputs": [
    {
     "name": "stdout",
     "output_type": "stream",
     "text": [
      "salary: 8000\n",
      "name: lokesh\n",
      "age: 25\n"
     ]
    }
   ],
   "source": [
    "emp.display2()"
   ]
  },
  {
   "cell_type": "code",
   "execution_count": null,
   "id": "ba137f95-2d02-431a-9d7e-d2eab2a4357e",
   "metadata": {},
   "outputs": [],
   "source": []
  }
 ],
 "metadata": {
  "kernelspec": {
   "display_name": "Python 3 (ipykernel)",
   "language": "python",
   "name": "python3"
  },
  "language_info": {
   "codemirror_mode": {
    "name": "ipython",
    "version": 3
   },
   "file_extension": ".py",
   "mimetype": "text/x-python",
   "name": "python",
   "nbconvert_exporter": "python",
   "pygments_lexer": "ipython3",
   "version": "3.10.6"
  }
 },
 "nbformat": 4,
 "nbformat_minor": 5
}
