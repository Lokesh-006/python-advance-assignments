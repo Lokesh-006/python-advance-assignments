{
 "cells": [
  {
   "cell_type": "markdown",
   "id": "517ab5da",
   "metadata": {},
   "source": [
    "# Assignment_7"
   ]
  },
  {
   "cell_type": "markdown",
   "id": "ec7ef8ba",
   "metadata": {},
   "source": [
    "***********"
   ]
  },
  {
   "cell_type": "markdown",
   "id": "ddf0419d",
   "metadata": {},
   "source": [
    "### 1. What is the purpose of the try statement?\n",
    "**Ans:**\n",
    "                    \n",
    "**try** statement is used for exception handling in python. it consists of a block of risky statements which might cause an **exception during runtime**. if code within try block raises exception, then the exception will be reverted to the corresponding except block if multiple except blocks are present, else it willbe reverted to the default except block. In short try and except in union avoid programs from **crashing during runtime due to exceptions.**"
   ]
  },
  {
   "cell_type": "markdown",
   "id": "13fbfe76",
   "metadata": {},
   "source": [
    "### 2. What are the two most popular try statement variations?\n",
    "**Ans:**\n",
    "\n",
    "\n",
    "The Popular try statement variations are:\n",
    "\n",
    "**try,except**\n",
    "\n",
    "**try,except,finally**\n",
    "\n",
    "**try,except,finally,else**\n",
    "\n",
    "* The try block is used to check code for exceptions during runtime.\n",
    "* Code inside try block will execute completely when there is no error in the program. \n",
    "* Whereas the code inside except block will execute whenever the program encounters some error in the preceeding try block.\n",
    "\n",
    "* Whereas the code enters the else block if and only if the try clause does not raise and exception. The code in the finally block will execute irrespective of exception."
   ]
  },
  {
   "cell_type": "markdown",
   "id": "a8ebfa2f",
   "metadata": {},
   "source": [
    "### 3. What is the purpose of the raise statement?\n",
    "\n",
    "**Ans:**\n",
    "\n",
    "**raise statement**-used to create our owne Exception statement insted of Actual Error."
   ]
  },
  {
   "cell_type": "markdown",
   "id": "c6850319",
   "metadata": {},
   "source": [
    "### 4. What does the assert statement do, and what other statement is it like?"
   ]
  },
  {
   "cell_type": "markdown",
   "id": "77d027cb",
   "metadata": {},
   "source": [
    "**Ans:**\n",
    "\n",
    "This **assert** statement takes a boolean condition output of which is True, Further Program Executes. if output of assert statement is False, it raises an Assertion Error."
   ]
  },
  {
   "cell_type": "markdown",
   "id": "57aa0cfa",
   "metadata": {},
   "source": [
    "### 5. What is the purpose of the with/as argument, and what other statement is it like?\n",
    "\n",
    "\n",
    "**Ans:**\n",
    "\n",
    "**with/as** statement simplifies use of file handling in python. When we use a with statement for file reading, there is no need for programmer to explicitly takecare of activities like resource deallocation and file closing by using file.close() method. \n",
    "\n",
    "**with** statement itself ensures proper acquisition and release of resources. this avoids triggering of exceptions if file closing is unknowingly forgotten in the code execution.\n",
    "\n",
    "eg:\n",
    "**with** open('sample_file.txt','w') **as** file: file.write('Hello World')"
   ]
  },
  {
   "cell_type": "markdown",
   "id": "e405a0a9",
   "metadata": {},
   "source": [
    "**********"
   ]
  },
  {
   "cell_type": "markdown",
   "id": "ff902de4",
   "metadata": {},
   "source": [
    " #                                   **Thank you**"
   ]
  },
  {
   "cell_type": "code",
   "execution_count": null,
   "id": "cedb955e",
   "metadata": {},
   "outputs": [],
   "source": []
  }
 ],
 "metadata": {
  "kernelspec": {
   "display_name": "Python 3 (ipykernel)",
   "language": "python",
   "name": "python3"
  },
  "language_info": {
   "codemirror_mode": {
    "name": "ipython",
    "version": 3
   },
   "file_extension": ".py",
   "mimetype": "text/x-python",
   "name": "python",
   "nbconvert_exporter": "python",
   "pygments_lexer": "ipython3",
   "version": "3.9.13"
  }
 },
 "nbformat": 4,
 "nbformat_minor": 5
}
