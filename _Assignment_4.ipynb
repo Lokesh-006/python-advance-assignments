{
 "cells": [
  {
   "cell_type": "markdown",
   "id": "3cf30579",
   "metadata": {},
   "source": [
    "# Assignment_4 \n"
   ]
  },
  {
   "cell_type": "markdown",
   "id": "52665641",
   "metadata": {},
   "source": [
    "# Q1. Which two operator overloading methods can you use in your classes to support iteration?\n",
    "\n"
   ]
  },
  {
   "cell_type": "markdown",
   "id": "59073a17",
   "metadata": {},
   "source": [
    "\" __ iter __ \" and \" __ next __ \" are the operator overloading methods in python that support iteration and are collectively called iterator protocol.\n",
    "\n",
    "iter returns the iterator object and is called at the start of loop in our respective class.\n",
    "\n",
    "next is called at each loop increment, it returns the incremented value. Also Stopiteration is raised when there is no value to return"
   ]
  },
  {
   "cell_type": "code",
   "execution_count": 1,
   "id": "2fcbd776",
   "metadata": {},
   "outputs": [
    {
     "name": "stdout",
     "output_type": "stream",
     "text": [
      "2\n",
      "3\n",
      "4\n",
      "5\n",
      "6\n",
      "7\n",
      "8\n"
     ]
    }
   ],
   "source": [
    "class Counter:\n",
    "    def __init__(self, low, high):\n",
    "        self.current = low\n",
    "        self.high = high\n",
    " \n",
    "    def __iter__(self):\n",
    "        return self\n",
    " \n",
    "    def __next__(self):\n",
    "        if self.current > self.high:\n",
    "            raise StopIteration\n",
    "        else:\n",
    "            self.current += 1\n",
    "            return self.current - 1\n",
    " \n",
    " \n",
    "for num in Counter(2, 8):\n",
    "    print(num)"
   ]
  },
  {
   "cell_type": "markdown",
   "id": "e999918e",
   "metadata": {},
   "source": [
    "# Q2. In what contexts do the two operator overloading methods manage printing?\n",
    "\n"
   ]
  },
  {
   "cell_type": "markdown",
   "id": "4a6a4492",
   "metadata": {},
   "source": [
    " str and repr are two operator overloading methods that manage printing.\n",
    "\n",
    "In Short, the difference between both these operators is the goal of repr is to be unambiguous and str is to be readable. Whenever we are printing any object reference internally str method will be called by default. The main purpose of str is for readability. it prints the informal string representation of an object, one that is useful for printing the object. it may not be possible to convert result string to original object. repr is used to print official string representation of an object, so it includes all information and development."
   ]
  },
  {
   "cell_type": "markdown",
   "id": "a35f7a5a",
   "metadata": {},
   "source": [
    "# Q3. In a class, how do you intercept slice operations?\n"
   ]
  },
  {
   "cell_type": "markdown",
   "id": "c1ba39ab",
   "metadata": {},
   "source": [
    "In a class use of slice() in getitem method is used for intercept slice operation. This slice method is provided with start integer number, stop integer number and step integer number.\n",
    "\n",
    "Example: getitem(slice(start,stop,step))"
   ]
  },
  {
   "cell_type": "markdown",
   "id": "94b487f4",
   "metadata": {},
   "source": [
    "\n",
    "# Q4. In a class, how do you capture in-place addition?\n"
   ]
  },
  {
   "cell_type": "markdown",
   "id": "7de4da5f",
   "metadata": {},
   "source": [
    "a+b is normal addition. Whereas a+=b is inplace addition operation. In this in-place addition a itself will store the value of addition. In a class iadd method is used for this in-place operation"
   ]
  },
  {
   "cell_type": "markdown",
   "id": "578c55f0",
   "metadata": {},
   "source": [
    "\n",
    "# Q5. When is it appropriate to use operator overloading?"
   ]
  },
  {
   "cell_type": "markdown",
   "id": "e0e223dd",
   "metadata": {},
   "source": [
    "Operator overloading is used when we want to use an operator other than its normal operation to have different meaning according to the context required in user defined function."
   ]
  },
  {
   "cell_type": "markdown",
   "id": "8dc95948",
   "metadata": {},
   "source": [
    "# # # # # ## Thank You # # # # # # # "
   ]
  },
  {
   "cell_type": "code",
   "execution_count": null,
   "id": "8018881e",
   "metadata": {},
   "outputs": [],
   "source": []
  }
 ],
 "metadata": {
  "kernelspec": {
   "display_name": "Python 3 (ipykernel)",
   "language": "python",
   "name": "python3"
  },
  "language_info": {
   "codemirror_mode": {
    "name": "ipython",
    "version": 3
   },
   "file_extension": ".py",
   "mimetype": "text/x-python",
   "name": "python",
   "nbconvert_exporter": "python",
   "pygments_lexer": "ipython3",
   "version": "3.9.13"
  }
 },
 "nbformat": 4,
 "nbformat_minor": 5
}
