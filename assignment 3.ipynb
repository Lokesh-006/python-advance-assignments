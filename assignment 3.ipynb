{
 "cells": [
  {
   "cell_type": "markdown",
   "id": "7146207d",
   "metadata": {},
   "source": [
    "# python-advance-assignment 3"
   ]
  },
  {
   "cell_type": "markdown",
   "id": "75aa40e4",
   "metadata": {},
   "source": [
    "### 1. What is the concept of an abstract superclass?"
   ]
  },
  {
   "cell_type": "markdown",
   "id": "c93592fc",
   "metadata": {},
   "source": [
    "Ans: An abstract class/superclass can be considered as a blueprint for other classes. It allows you to create a set of methods that must be created within any child classes built from the abstract class. A class which contains one or more abstract methods is called an abstract class.\n",
    "\n",
    "Whereas an abstract method is a method that has a declaration but does not have an implementation"
   ]
  },
  {
   "cell_type": "markdown",
   "id": "24bc27f1",
   "metadata": {},
   "source": [
    "### 2. What happens when a class statement&#39;s top level contains a basic assignment statement?"
   ]
  },
  {
   "cell_type": "markdown",
   "id": "2695750b",
   "metadata": {},
   "source": [
    "Ans: When a Class statement's top level contains a basic assignment statement, its usually treated as a class attribute or class level variable.\n",
    "\n",
    "where as assignment statements inside methods are treated as instance attributes or local attributes.\n",
    "\n",
    "When an instance of a class is created a single copy of class attributes is maintained and shared to all instances of class. where as each instance object maintains its own copy of instance variables."
   ]
  },
  {
   "cell_type": "code",
   "execution_count": 1,
   "id": "10967464",
   "metadata": {},
   "outputs": [],
   "source": [
    "class Person:\n",
    "    Name = 'Lokesh Guptha' # class attribute\n",
    "    def __init__(self,name,gender):\n",
    "        self.name = name # instance attributes\n",
    "        self.gender = gender"
   ]
  },
  {
   "cell_type": "code",
   "execution_count": 3,
   "id": "336e0877",
   "metadata": {},
   "outputs": [],
   "source": [
    "p = Person(\"lokesh\",\"male\")"
   ]
  },
  {
   "cell_type": "code",
   "execution_count": 6,
   "id": "eada834a",
   "metadata": {},
   "outputs": [
    {
     "data": {
      "text/plain": [
       "'Lokesh Guptha'"
      ]
     },
     "execution_count": 6,
     "metadata": {},
     "output_type": "execute_result"
    }
   ],
   "source": [
    "p.Name # class attribute"
   ]
  },
  {
   "cell_type": "code",
   "execution_count": 9,
   "id": "9ecd8fe1",
   "metadata": {},
   "outputs": [
    {
     "data": {
      "text/plain": [
       "'male'"
      ]
     },
     "execution_count": 9,
     "metadata": {},
     "output_type": "execute_result"
    }
   ],
   "source": [
    "p.gender # instance attriute"
   ]
  },
  {
   "cell_type": "markdown",
   "id": "526ee4d3",
   "metadata": {},
   "source": [
    "### 3. Why does a class need to manually call a superclass's __init__ method?"
   ]
  },
  {
   "cell_type": "markdown",
   "id": "8c041877",
   "metadata": {},
   "source": [
    " if a child class has init method, then it will not inherit the init method of the parent class. in other words the init method of the child class overrides the init method of the parent class. so we have to manually call a parent superclass's init using super() method"
   ]
  },
  {
   "cell_type": "code",
   "execution_count": 20,
   "id": "9bc4631f",
   "metadata": {},
   "outputs": [
    {
     "data": {
      "text/plain": [
       "{'name': 'lokesh', 'duty': 'data scientist', 'salary': 100}"
      ]
     },
     "execution_count": 20,
     "metadata": {},
     "output_type": "execute_result"
    }
   ],
   "source": [
    "class office:\n",
    "    def __init__(self,name,duty):\n",
    "        self.name = name\n",
    "        self.duty = duty\n",
    "class emply(office):\n",
    "    def __init__(self,name,duty,salary):\n",
    "        super().__init__(name,duty)\n",
    "        self.salary = salary\n",
    "emp__1 = emply(\"lokesh\",\"data scientist\",100)\n",
    "emp__1.__dict__"
   ]
  },
  {
   "cell_type": "markdown",
   "id": "34c29180",
   "metadata": {},
   "source": [
    "### 4. How can you augment, instead of completely replacing, an inherited method?"
   ]
  },
  {
   "cell_type": "markdown",
   "id": "653ac79b",
   "metadata": {},
   "source": [
    "#super().__init__(name,duty) \n",
    "(super() method can be used to augment, instead of completely replacing, an inherited method.)"
   ]
  },
  {
   "cell_type": "markdown",
   "id": "71ca4d0f",
   "metadata": {},
   "source": [
    "### 5. How is the local scope of a class different from that of a function?"
   ]
  },
  {
   "cell_type": "markdown",
   "id": "4a005a24",
   "metadata": {},
   "source": [
    "#### local varicable inside function:\n",
    "A Variable which is defined inside a function is local to that function. it is accesible from the point at which it is defined until the end of the function, and exists for as long as the function is existing.\n",
    "#### local scope in side class body:\n",
    "Similary a variable inside of a class also has a local variable scope. Variables which are defined in the class body (but outside all methods) are called as class level variables or class attributes. they can be referenced by there bare names within the same scope, but they can also be accessed from outside this scope if we use the attribute access operator (.). on a class or an instance of the class."
   ]
  },
  {
   "cell_type": "markdown",
   "id": "4d4d38e8",
   "metadata": {},
   "source": [
    "## Thank you ##"
   ]
  },
  {
   "cell_type": "code",
   "execution_count": null,
   "id": "cf98e895",
   "metadata": {},
   "outputs": [],
   "source": []
  }
 ],
 "metadata": {
  "kernelspec": {
   "display_name": "Python 3 (ipykernel)",
   "language": "python",
   "name": "python3"
  },
  "language_info": {
   "codemirror_mode": {
    "name": "ipython",
    "version": 3
   },
   "file_extension": ".py",
   "mimetype": "text/x-python",
   "name": "python",
   "nbconvert_exporter": "python",
   "pygments_lexer": "ipython3",
   "version": "3.9.13"
  }
 },
 "nbformat": 4,
 "nbformat_minor": 5
}
