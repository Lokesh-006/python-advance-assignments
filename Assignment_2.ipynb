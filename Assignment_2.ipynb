{
 "cells": [
  {
   "cell_type": "markdown",
   "id": "f3a6391d",
   "metadata": {},
   "source": [
    "# Assignment_2\n",
    "\n",
    "\n"
   ]
  },
  {
   "cell_type": "markdown",
   "id": "1526bcfe",
   "metadata": {},
   "source": [
    "# Q1. What is the relationship between classes and modules?"
   ]
  },
  {
   "cell_type": "markdown",
   "id": "b8bf2a34",
   "metadata": {},
   "source": [
    " Modules is file that contains variables,function definations,classes,some statments .classes is act as some part of module "
   ]
  },
  {
   "cell_type": "markdown",
   "id": "9379b1f2",
   "metadata": {},
   "source": [
    "# Q2. How do you make instances and classes?"
   ]
  },
  {
   "cell_type": "markdown",
   "id": "a3a950eb",
   "metadata": {},
   "source": [
    " Here class named keyword is used to make a class and inside the class we are creats objects and instances for the class."
   ]
  },
  {
   "cell_type": "code",
   "execution_count": 1,
   "id": "6c9c5f4d",
   "metadata": {},
   "outputs": [],
   "source": [
    "class name: # this is name class\n",
    "    def __init__(self,fname,lname): # this is instances\n",
    "        self.fname = fname # this are instance variabls or attributs\n",
    "        self.lname = lname"
   ]
  },
  {
   "cell_type": "markdown",
   "id": "913d5626",
   "metadata": {},
   "source": [
    "# Q3. Where and how should be class attributes created?"
   ]
  },
  {
   "cell_type": "markdown",
   "id": "c7ee2563",
   "metadata": {},
   "source": [
    " class attributes are created in side the class, before creating instance objects and init function,\n",
    " generally we call it as elong with class_name.clas_attribute name. see here:\n",
    " "
   ]
  },
  {
   "cell_type": "code",
   "execution_count": 3,
   "id": "3d779347",
   "metadata": {},
   "outputs": [],
   "source": [
    "class Loki:\n",
    "    cls_Atri1 = \"lokesh\" # Class Attribute\n",
    "    Cls_Atri2 = \"lokesh guptha\" # Class Attribute\n",
    "    def __init__(self,age):\n",
    "        self.age = age"
   ]
  },
  {
   "cell_type": "code",
   "execution_count": 4,
   "id": "1731353a",
   "metadata": {},
   "outputs": [],
   "source": [
    "l = Loki(\"24\")"
   ]
  },
  {
   "cell_type": "code",
   "execution_count": 10,
   "id": "0016f356",
   "metadata": {},
   "outputs": [
    {
     "data": {
      "text/plain": [
       "('lokesh', '24', 'lokesh guptha')"
      ]
     },
     "execution_count": 10,
     "metadata": {},
     "output_type": "execute_result"
    }
   ],
   "source": [
    "l.cls_Atri1,l.age,l.Cls_Atri2"
   ]
  },
  {
   "cell_type": "markdown",
   "id": "6c776766",
   "metadata": {},
   "source": [
    "# Q4. Where and how are instance attributes created?"
   ]
  },
  {
   "cell_type": "markdown",
   "id": "e0039578",
   "metadata": {},
   "source": [
    "The Properties attached to an instance of a class. Instance attributes are defined in the constructor of init function"
   ]
  },
  {
   "cell_type": "code",
   "execution_count": 13,
   "id": "2c95e552",
   "metadata": {},
   "outputs": [],
   "source": [
    "class Loki:\n",
    "       def __init__(self,name1,age2):\n",
    "        self.name = name1 # Instance Attributes\n",
    "        self.age = age2"
   ]
  },
  {
   "cell_type": "code",
   "execution_count": 18,
   "id": "3c776300",
   "metadata": {},
   "outputs": [
    {
     "data": {
      "text/plain": [
       "('lokesh', 25, {'name': 'lokesh', 'age': 25})"
      ]
     },
     "execution_count": 18,
     "metadata": {},
     "output_type": "execute_result"
    }
   ],
   "source": [
    "l = Loki(\"lokesh\",25)\n",
    "l.name,l.age,l.__dict__"
   ]
  },
  {
   "cell_type": "markdown",
   "id": "fa76bdf7",
   "metadata": {},
   "source": [
    "# Q5. What does the term \"self\" in a Python class mean?"
   ]
  },
  {
   "cell_type": "markdown",
   "id": "f6769a49",
   "metadata": {},
   "source": [
    "The self parameter is a reference to the current instance of the class, and is used to access variables that belong to the class.\n"
   ]
  },
  {
   "cell_type": "markdown",
   "id": "320b7b63",
   "metadata": {},
   "source": [
    "# Q6. How does a Python class handle operator overloading?"
   ]
  },
  {
   "cell_type": "markdown",
   "id": "2b1d7a61",
   "metadata": {},
   "source": [
    "Whenever you change the behavior of the existing operator through operator overloading, you have to redefine the special function that is invoked automatically when the operator is used with the objects."
   ]
  },
  {
   "cell_type": "code",
   "execution_count": 5,
   "id": "d841db48",
   "metadata": {},
   "outputs": [
    {
     "name": "stdout",
     "output_type": "stream",
     "text": [
      "43\n",
      "  lokesh    operation  \n"
     ]
    }
   ],
   "source": [
    "class A:\n",
    "    def __init__(self, a):\n",
    "        self.a = a\n",
    " \n",
    "    # adding two objects\n",
    "    def __add__(self, o):\n",
    "        return self.a + o.a # method overloading \n",
    "ob1 = A(10)\n",
    "ob2 = A(33)\n",
    "ob3 = A(\"  lokesh  \")\n",
    "ob4 = A(\"  operation  \")\n",
    " \n",
    "print(ob1 + ob2)\n",
    "print(ob3 + ob4)\n"
   ]
  },
  {
   "cell_type": "markdown",
   "id": "a73b5d7a",
   "metadata": {},
   "source": [
    "# Q7. When do you consider allowing operator overloading of your classes?"
   ]
  },
  {
   "cell_type": "markdown",
   "id": "af8d2b86",
   "metadata": {},
   "source": [
    "Operator overloading is used when we want to use an operator other than its normal operation to have different meaning according to the context required in user defined function."
   ]
  },
  {
   "cell_type": "markdown",
   "id": "4737d543",
   "metadata": {},
   "source": [
    "# Q8. What is the most popular form of operator overloading?"
   ]
  },
  {
   "cell_type": "markdown",
   "id": "37b1c488",
   "metadata": {},
   "source": [
    "A very popular and convenient example is the Addition (+) operator. and some Magic Functions also"
   ]
  },
  {
   "cell_type": "markdown",
   "id": "6f7c9550",
   "metadata": {},
   "source": [
    "# Q9. What are the two most important concepts to grasp in order to comprehend Python OOP code?"
   ]
  },
  {
   "cell_type": "markdown",
   "id": "a5cfce7f",
   "metadata": {},
   "source": [
    "inheritance and polymorphism."
   ]
  }
 ],
 "metadata": {
  "kernelspec": {
   "display_name": "Python 3 (ipykernel)",
   "language": "python",
   "name": "python3"
  },
  "language_info": {
   "codemirror_mode": {
    "name": "ipython",
    "version": 3
   },
   "file_extension": ".py",
   "mimetype": "text/x-python",
   "name": "python",
   "nbconvert_exporter": "python",
   "pygments_lexer": "ipython3",
   "version": "3.9.13"
  }
 },
 "nbformat": 4,
 "nbformat_minor": 5
}
